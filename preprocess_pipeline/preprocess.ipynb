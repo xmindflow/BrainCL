{
 "cells": [
  {
   "cell_type": "code",
   "execution_count": 1,
   "metadata": {},
   "outputs": [],
   "source": [
    "import os\n",
    "import nibabel as nib\n",
    "import numpy as np\n",
    "import matplotlib.pyplot as plt\n",
    "from tqdm.auto import tqdm\n",
    "from joblib import Parallel, delayed\n",
    "from glob import glob\n",
    "import subprocess\n",
    "import shutil\n",
    "import monai.transforms as T"
   ]
  },
  {
   "cell_type": "markdown",
   "metadata": {},
   "source": [
    "# For Brats"
   ]
  },
  {
   "cell_type": "code",
   "execution_count": 2,
   "metadata": {},
   "outputs": [],
   "source": [
    "root_path = \"/media/say26747/EC2426FA2426C782/Continual_learning_data/Brats_16_17/BRATS_splitted\"\n",
    "\n",
    "\n",
    "def load_brats_mets_dataset_paths(root):\n",
    "    modalities_list = [\"FLR\", \"T1w\", \"T1c\", \"T2w\"]\n",
    "\n",
    "    images_path = os.listdir(root)\n",
    "    images_list = []\n",
    "\n",
    "    for path in images_path:\n",
    "        image_path = os.path.join(root, path)\n",
    "        image_modalities_paths = []\n",
    "\n",
    "        for modality in modalities_list:\n",
    "            image_modalities_paths.append(\n",
    "                os.path.join(image_path, f\"{path}_{modality}.nii.gz\")\n",
    "            )\n",
    "\n",
    "        seg_img = os.path.join(image_path, f\"{path}_Seg.nii.gz\")\n",
    "        seg_merged_img = os.path.join(image_path, f\"{path}_MERGED_Seg.nii.gz\")\n",
    "\n",
    "        images_list.append(\n",
    "            {\n",
    "                \"image\": image_modalities_paths,\n",
    "                \"label\": seg_img,\n",
    "                \"merged_label\": seg_merged_img,\n",
    "                \"name\": path,\n",
    "            }\n",
    "        )\n",
    "\n",
    "    return images_list\n",
    "\n",
    "\n",
    "brats_paths = load_brats_mets_dataset_paths(root_path)"
   ]
  },
  {
   "cell_type": "code",
   "execution_count": 3,
   "metadata": {},
   "outputs": [
    {
     "data": {
      "text/plain": [
       "{'image': ['/media/say26747/EC2426FA2426C782/Continual_learning_data/Brats_16_17/BRATS_splitted/BRATS_458/BRATS_458_FLR.nii.gz',\n",
       "  '/media/say26747/EC2426FA2426C782/Continual_learning_data/Brats_16_17/BRATS_splitted/BRATS_458/BRATS_458_T1w.nii.gz',\n",
       "  '/media/say26747/EC2426FA2426C782/Continual_learning_data/Brats_16_17/BRATS_splitted/BRATS_458/BRATS_458_T1c.nii.gz',\n",
       "  '/media/say26747/EC2426FA2426C782/Continual_learning_data/Brats_16_17/BRATS_splitted/BRATS_458/BRATS_458_T2w.nii.gz'],\n",
       " 'label': '/media/say26747/EC2426FA2426C782/Continual_learning_data/Brats_16_17/BRATS_splitted/BRATS_458/BRATS_458_Seg.nii.gz',\n",
       " 'merged_label': '/media/say26747/EC2426FA2426C782/Continual_learning_data/Brats_16_17/BRATS_splitted/BRATS_458/BRATS_458_MERGED_Seg.nii.gz',\n",
       " 'name': 'BRATS_458'}"
      ]
     },
     "execution_count": 3,
     "metadata": {},
     "output_type": "execute_result"
    }
   ],
   "source": [
    "brats_paths[1]"
   ]
  },
  {
   "cell_type": "code",
   "execution_count": 4,
   "metadata": {},
   "outputs": [],
   "source": [
    "transforms = T.Compose(\n",
    "    [\n",
    "        T.LoadImaged(keys=[\"image\", \"label\", \"merged_label\"]),\n",
    "        T.EnsureChannelFirstd(keys=[\"image\", \"label\", \"merged_label\"]),\n",
    "        T.Orientationd(keys=[\"image\", \"label\", \"merged_label\"], axcodes=\"RAS\"),\n",
    "        T.Spacingd(\n",
    "            keys=[\"image\", \"label\", \"merged_label\"],\n",
    "            pixdim=(1, 1, 1),\n",
    "            mode=(\"bilinear\", \"nearest\", \"nearest\"),\n",
    "            padding_mode=(\"zeros\", \"zeros\", \"zeros\"),\n",
    "        ),\n",
    "        # T.CropForegroundd(keys=[\"image\", \"label\", \"merged_label\"], source_key=\"image\", allow_smaller=True),\n",
    "        T.NormalizeIntensityd(keys=\"image\", nonzero=True, channel_wise=True),\n",
    "        T.AsChannelLastd(keys=[\"image\", \"label\", \"merged_label\"]),\n",
    "    ],\n",
    "    lazy=True,\n",
    ")\n",
    "\n",
    "\n",
    "def process_image_brats(path):\n",
    "    data = transforms(path)\n",
    "    save_path = (\n",
    "        \"/media/say26747/EC2426FA2426C782/Continual_learning_data/Brats_16_17/finalized\"\n",
    "    )\n",
    "    nib.save(\n",
    "        nib.Nifti1Image(\n",
    "            data[\"image\"].astype(np.float32), affine=data[\"image\"].meta[\"affine\"]\n",
    "        ),\n",
    "        os.path.join(save_path, \"images\", f\"{data['name']}.nii.gz\"),\n",
    "    )\n",
    "    nib.save(\n",
    "        nib.Nifti1Image(\n",
    "            data[\"label\"].squeeze().astype(np.uint8),\n",
    "            affine=data[\"image\"].meta[\"affine\"],\n",
    "        ),\n",
    "        os.path.join(save_path, \"labels_orig\", f\"{data['name']}.nii.gz\"),\n",
    "    )\n",
    "    nib.save(\n",
    "        nib.Nifti1Image(\n",
    "            data[\"merged_label\"].squeeze().astype(np.uint8),\n",
    "            affine=data[\"image\"].meta[\"affine\"],\n",
    "        ),\n",
    "        os.path.join(save_path, \"labels\", f\"{data['name']}.nii.gz\"),\n",
    "    )"
   ]
  },
  {
   "cell_type": "code",
   "execution_count": 5,
   "metadata": {},
   "outputs": [
    {
     "data": {
      "application/vnd.jupyter.widget-view+json": {
       "model_id": "0f727579e638444f97db9c8591c8fdfc",
       "version_major": 2,
       "version_minor": 0
      },
      "text/plain": [
       "  0%|          | 0/484 [00:00<?, ?it/s]"
      ]
     },
     "metadata": {},
     "output_type": "display_data"
    }
   ],
   "source": [
    "results = Parallel(n_jobs=8)(\n",
    "    delayed(process_image_brats)(path) for path in tqdm(brats_paths)\n",
    ")"
   ]
  },
  {
   "cell_type": "markdown",
   "metadata": {},
   "source": [
    "## for brats for multi plane"
   ]
  },
  {
   "cell_type": "code",
   "execution_count": 7,
   "metadata": {},
   "outputs": [
    {
     "data": {
      "application/vnd.jupyter.widget-view+json": {
       "model_id": "8c25cebc2b1a4f8cbd3baf88340fad37",
       "version_major": 2,
       "version_minor": 0
      },
      "text/plain": [
       "  0%|          | 0/484 [00:00<?, ?it/s]"
      ]
     },
     "metadata": {},
     "output_type": "display_data"
    }
   ],
   "source": [
    "root_brats_path = \"/media/say26747/EC2426FA2426C782/Continual_learning_data/Brats_16_17/finalized/labels_orig\"\n",
    "all_data = sorted(glob(os.path.join(root_brats_path, \"*.nii.gz\")))\n",
    "for path in tqdm(all_data):\n",
    "    img = nib.load(path)\n",
    "    data = img.get_fdata()\n",
    "    data_new = data.copy()\n",
    "    data_new[data_new == 1] = 0\n",
    "    final_data = np.stack((data, data_new), axis=-1)\n",
    "    save_path = path.replace(\"labels_orig\", \"labels_multiple\")\n",
    "    # print(save_path)\n",
    "    nib.save(\n",
    "        nib.Nifti1Image((final_data > 0).astype(np.uint8), affine=img.affine), save_path\n",
    "    )"
   ]
  },
  {
   "cell_type": "code",
   "execution_count": 16,
   "metadata": {},
   "outputs": [
    {
     "name": "stdout",
     "output_type": "stream",
     "text": [
      "(240, 240, 155, 2)\n"
     ]
    },
    {
     "data": {
      "image/png": "[encoded data removed]",
      "text/plain": [
       "<Figure size 1000x500 with 2 Axes>"
      ]
     },
     "metadata": {},
     "output_type": "display_data"
    }
   ],
   "source": [
    "# just to check if it is correctly done\n",
    "loaded_data = nib.load(\n",
    "    \"/media/say26747/EC2426FA2426C782/Continual_learning_data/Brats_16_17/finalized/labels_multiple/BRATS_001.nii.gz\"\n",
    ")\n",
    "data = loaded_data.get_fdata()\n",
    "print(data.shape)\n",
    "# now plot the data in a subfigure, to check if it is correctly done\n",
    "fig, ax = plt.subplots(1, 2, figsize=(10, 5))\n",
    "ax[0].imshow(\n",
    "    np.flip(np.transpose(data[:, :, 77, 0], axes=[1, 0]), axis=[1, 0]), cmap=\"gray\"\n",
    ")\n",
    "ax[1].imshow(\n",
    "    np.flip(np.transpose(data[:, :, 77, 1], axes=[1, 0]), axis=[1, 0]), cmap=\"gray\"\n",
    ")\n",
    "plt.show()"
   ]
  },
  {
   "cell_type": "markdown",
   "metadata": {},
   "source": [
    "# For Atlas"
   ]
  },
  {
   "cell_type": "code",
   "execution_count": 15,
   "metadata": {},
   "outputs": [],
   "source": [
    "root_path = \"/media/say26747/EC2426FA2426C782/Continual_learning_data/ATLAS/ATLAS_R2_skull_stripped\"\n",
    "\n",
    "\n",
    "def load_atlas_dataset_paths(root):\n",
    "    modalities_list = [\"T1w\"]\n",
    "\n",
    "    images_path = os.listdir(root)\n",
    "    images_list = []\n",
    "\n",
    "    for path in images_path:\n",
    "        image_path = os.path.join(root, path)\n",
    "        image_modalities_paths = []\n",
    "\n",
    "        for modality in modalities_list:\n",
    "            image_modalities_paths.append(\n",
    "                os.path.join(image_path, f\"{path}_{modality}.nii.gz\")\n",
    "            )\n",
    "\n",
    "        seg_img = os.path.join(image_path, f\"{path}_Seg.nii.gz\")\n",
    "\n",
    "        images_list.append(\n",
    "            {\n",
    "                \"image\": image_modalities_paths,\n",
    "                \"label\": seg_img,\n",
    "                \"name\": path,\n",
    "            }\n",
    "        )\n",
    "\n",
    "    return images_list\n",
    "\n",
    "\n",
    "atlas_paths = load_atlas_dataset_paths(root_path)"
   ]
  },
  {
   "cell_type": "code",
   "execution_count": 16,
   "metadata": {},
   "outputs": [
    {
     "data": {
      "text/plain": [
       "{'image': ['/media/say26747/EC2426FA2426C782/Continual_learning_data/ATLAS/ATLAS_R2_skull_stripped/sub-r049s028/sub-r049s028_T1w.nii.gz'],\n",
       " 'label': '/media/say26747/EC2426FA2426C782/Continual_learning_data/ATLAS/ATLAS_R2_skull_stripped/sub-r049s028/sub-r049s028_Seg.nii.gz',\n",
       " 'name': 'sub-r049s028'}"
      ]
     },
     "execution_count": 16,
     "metadata": {},
     "output_type": "execute_result"
    }
   ],
   "source": [
    "atlas_paths[1]"
   ]
  },
  {
   "cell_type": "code",
   "execution_count": 17,
   "metadata": {},
   "outputs": [],
   "source": [
    "transforms = T.Compose(\n",
    "    [\n",
    "        T.LoadImaged(keys=[\"image\", \"label\"]),\n",
    "        T.EnsureChannelFirstd(keys=[\"image\", \"label\"]),\n",
    "        T.Orientationd(keys=[\"image\", \"label\"], axcodes=\"RAS\"),\n",
    "        T.Spacingd(\n",
    "            keys=[\"image\", \"label\"],\n",
    "            pixdim=(1, 1, 1),\n",
    "            mode=(\"bilinear\", \"nearest\"),\n",
    "            padding_mode=(\"zeros\", \"zeros\"),\n",
    "        ),\n",
    "        # T.CropForegroundd(keys=[\"image\", \"label\"], source_key=\"image\", allow_smaller=True),\n",
    "        T.NormalizeIntensityd(keys=\"image\", nonzero=True, channel_wise=True),\n",
    "        T.AsChannelLastd(keys=[\"image\", \"label\"]),\n",
    "    ],\n",
    "    lazy=True,\n",
    ")\n",
    "\n",
    "\n",
    "def process_image_atlas(path):\n",
    "    data = transforms(path)\n",
    "    save_path = (\n",
    "        \"/media/say26747/EC2426FA2426C782/Continual_learning_data/ATLAS/finalized\"\n",
    "    )\n",
    "    nib.save(\n",
    "        nib.Nifti1Image(\n",
    "            data[\"image\"].squeeze().astype(np.float32),\n",
    "            affine=data[\"image\"].meta[\"affine\"],\n",
    "        ),\n",
    "        os.path.join(save_path, \"images\", f\"{data['name']}.nii.gz\"),\n",
    "    )\n",
    "    nib.save(\n",
    "        nib.Nifti1Image(\n",
    "            data[\"label\"].squeeze().astype(np.uint8),\n",
    "            affine=data[\"image\"].meta[\"affine\"],\n",
    "        ),\n",
    "        os.path.join(save_path, \"labels\", f\"{data['name']}.nii.gz\"),\n",
    "    )"
   ]
  },
  {
   "cell_type": "code",
   "execution_count": 18,
   "metadata": {},
   "outputs": [
    {
     "data": {
      "application/vnd.jupyter.widget-view+json": {
       "model_id": "01cd2085959a45a28f3d6a81b24da3b3",
       "version_major": 2,
       "version_minor": 0
      },
      "text/plain": [
       "  0%|          | 0/655 [00:00<?, ?it/s]"
      ]
     },
     "metadata": {},
     "output_type": "display_data"
    }
   ],
   "source": [
    "results = Parallel(n_jobs=3)(\n",
    "    delayed(process_image_atlas)(path) for path in tqdm(atlas_paths)\n",
    ")"
   ]
  },
  {
   "cell_type": "markdown",
   "metadata": {},
   "source": [
    "# For ISLES"
   ]
  },
  {
   "cell_type": "code",
   "execution_count": 18,
   "metadata": {},
   "outputs": [],
   "source": [
    "root_path = (\n",
    "    \"/media/say26747/EC2426FA2426C782/Continual_learning_data/ISLES_2015/ISLES_splitted\"\n",
    ")\n",
    "\n",
    "\n",
    "def load_isles_dataset_paths(root):\n",
    "    modalities_list = [\"FLR\", \"T1w\", \"T2w\", \"DWI\"]\n",
    "\n",
    "    images_path = os.listdir(root)\n",
    "    images_list = []\n",
    "\n",
    "    for path in images_path:\n",
    "        image_path = os.path.join(root, path)\n",
    "        image_modalities_paths = []\n",
    "\n",
    "        for modality in modalities_list:\n",
    "            image_modalities_paths.append(\n",
    "                os.path.join(image_path, f\"{path}_{modality}.nii.gz\")\n",
    "            )\n",
    "\n",
    "        seg_img = os.path.join(image_path, f\"{path}_Seg.nii.gz\")\n",
    "\n",
    "        images_list.append(\n",
    "            {\n",
    "                \"image\": image_modalities_paths,\n",
    "                \"label\": seg_img,\n",
    "                \"name\": path,\n",
    "            }\n",
    "        )\n",
    "\n",
    "    return images_list\n",
    "\n",
    "\n",
    "isles_paths = load_isles_dataset_paths(root_path)"
   ]
  },
  {
   "cell_type": "code",
   "execution_count": 19,
   "metadata": {},
   "outputs": [
    {
     "data": {
      "text/plain": [
       "{'image': ['/media/say26747/EC2426FA2426C782/Continual_learning_data/ISLES_2015/ISLES_splitted/patient_10/patient_10_FLR.nii.gz',\n",
       "  '/media/say26747/EC2426FA2426C782/Continual_learning_data/ISLES_2015/ISLES_splitted/patient_10/patient_10_T1w.nii.gz',\n",
       "  '/media/say26747/EC2426FA2426C782/Continual_learning_data/ISLES_2015/ISLES_splitted/patient_10/patient_10_T2w.nii.gz',\n",
       "  '/media/say26747/EC2426FA2426C782/Continual_learning_data/ISLES_2015/ISLES_splitted/patient_10/patient_10_DWI.nii.gz'],\n",
       " 'label': '/media/say26747/EC2426FA2426C782/Continual_learning_data/ISLES_2015/ISLES_splitted/patient_10/patient_10_Seg.nii.gz',\n",
       " 'name': 'patient_10'}"
      ]
     },
     "execution_count": 19,
     "metadata": {},
     "output_type": "execute_result"
    }
   ],
   "source": [
    "isles_paths[1]"
   ]
  },
  {
   "cell_type": "code",
   "execution_count": 20,
   "metadata": {},
   "outputs": [],
   "source": [
    "transforms = T.Compose(\n",
    "    [\n",
    "        T.LoadImaged(keys=[\"image\", \"label\"]),\n",
    "        T.EnsureChannelFirstd(keys=[\"image\", \"label\"]),\n",
    "        T.Orientationd(keys=[\"image\", \"label\"], axcodes=\"RAS\"),\n",
    "        T.Spacingd(\n",
    "            keys=[\"image\", \"label\"],\n",
    "            pixdim=(1, 1, 1),\n",
    "            mode=(\"bilinear\", \"nearest\"),\n",
    "            padding_mode=(\"zeros\", \"zeros\"),\n",
    "        ),\n",
    "        # T.CropForegroundd(keys=[\"image\", \"label\"], source_key=\"image\", allow_smaller=True),\n",
    "        T.NormalizeIntensityd(keys=\"image\", nonzero=True, channel_wise=True),\n",
    "        T.AsChannelLastd(keys=[\"image\", \"label\"]),\n",
    "    ],\n",
    "    lazy=True,\n",
    ")\n",
    "\n",
    "\n",
    "def process_image_isles(path):\n",
    "    data = transforms(path)\n",
    "    save_path = (\n",
    "        \"/media/say26747/EC2426FA2426C782/Continual_learning_data/ISLES_2015/finalized\"\n",
    "    )\n",
    "    nib.save(\n",
    "        nib.Nifti1Image(\n",
    "            data[\"image\"].squeeze().astype(np.float32),\n",
    "            affine=data[\"image\"].meta[\"affine\"],\n",
    "        ),\n",
    "        os.path.join(save_path, \"images\", f\"{data['name']}.nii.gz\"),\n",
    "    )\n",
    "    nib.save(\n",
    "        nib.Nifti1Image(\n",
    "            data[\"label\"].squeeze().astype(np.uint8),\n",
    "            affine=data[\"image\"].meta[\"affine\"],\n",
    "        ),\n",
    "        os.path.join(save_path, \"labels\", f\"{data['name']}.nii.gz\"),\n",
    "    )"
   ]
  },
  {
   "cell_type": "code",
   "execution_count": 21,
   "metadata": {},
   "outputs": [
    {
     "data": {
      "application/vnd.jupyter.widget-view+json": {
       "model_id": "4c2fdfad90ea48b3abd51e5c9f4552e9",
       "version_major": 2,
       "version_minor": 0
      },
      "text/plain": [
       "  0%|          | 0/28 [00:00<?, ?it/s]"
      ]
     },
     "metadata": {},
     "output_type": "display_data"
    }
   ],
   "source": [
    "results = Parallel(n_jobs=1)(\n",
    "    delayed(process_image_isles)(path) for path in tqdm(isles_paths)\n",
    ")"
   ]
  },
  {
   "cell_type": "markdown",
   "metadata": {},
   "source": [
    "# For MSSEG"
   ]
  },
  {
   "cell_type": "code",
   "execution_count": 24,
   "metadata": {},
   "outputs": [],
   "source": [
    "root_path = (\n",
    "    \"/media/say26747/EC2426FA2426C782/Continual_learning_data/MSSEG_2016/MSSEG_splitted\"\n",
    ")\n",
    "\n",
    "\n",
    "def load_msseg_dataset_paths(root):\n",
    "    modalities_list = [\"FLR\", \"T1w\", \"T1c\", \"T2w\", \"PDw\"]\n",
    "\n",
    "    images_path = os.listdir(root)\n",
    "    images_list = []\n",
    "\n",
    "    for path in images_path:\n",
    "        image_path = os.path.join(root, path)\n",
    "        image_modalities_paths = []\n",
    "\n",
    "        for modality in modalities_list:\n",
    "            image_modalities_paths.append(\n",
    "                os.path.join(image_path, f\"{path}_{modality}.nii.gz\")\n",
    "            )\n",
    "\n",
    "        seg_img = os.path.join(image_path, f\"{path}_Seg.nii.gz\")\n",
    "\n",
    "        images_list.append(\n",
    "            {\n",
    "                \"image\": image_modalities_paths,\n",
    "                \"label\": seg_img,\n",
    "                \"name\": path,\n",
    "            }\n",
    "        )\n",
    "\n",
    "    return images_list\n",
    "\n",
    "\n",
    "msseg_paths = load_msseg_dataset_paths(root_path)"
   ]
  },
  {
   "cell_type": "code",
   "execution_count": 25,
   "metadata": {},
   "outputs": [
    {
     "data": {
      "text/plain": [
       "{'image': ['/media/say26747/EC2426FA2426C782/Continual_learning_data/MSSEG_2016/MSSEG_splitted/test_center_08_patient_02/test_center_08_patient_02_FLR.nii.gz',\n",
       "  '/media/say26747/EC2426FA2426C782/Continual_learning_data/MSSEG_2016/MSSEG_splitted/test_center_08_patient_02/test_center_08_patient_02_T1w.nii.gz',\n",
       "  '/media/say26747/EC2426FA2426C782/Continual_learning_data/MSSEG_2016/MSSEG_splitted/test_center_08_patient_02/test_center_08_patient_02_T1c.nii.gz',\n",
       "  '/media/say26747/EC2426FA2426C782/Continual_learning_data/MSSEG_2016/MSSEG_splitted/test_center_08_patient_02/test_center_08_patient_02_T2w.nii.gz',\n",
       "  '/media/say26747/EC2426FA2426C782/Continual_learning_data/MSSEG_2016/MSSEG_splitted/test_center_08_patient_02/test_center_08_patient_02_PDw.nii.gz'],\n",
       " 'label': '/media/say26747/EC2426FA2426C782/Continual_learning_data/MSSEG_2016/MSSEG_splitted/test_center_08_patient_02/test_center_08_patient_02_Seg.nii.gz',\n",
       " 'name': 'test_center_08_patient_02'}"
      ]
     },
     "execution_count": 25,
     "metadata": {},
     "output_type": "execute_result"
    }
   ],
   "source": [
    "msseg_paths[1]"
   ]
  },
  {
   "cell_type": "code",
   "execution_count": 26,
   "metadata": {},
   "outputs": [],
   "source": [
    "transforms = T.Compose(\n",
    "    [\n",
    "        T.LoadImaged(keys=[\"image\", \"label\"]),\n",
    "        T.EnsureChannelFirstd(keys=[\"image\", \"label\"]),\n",
    "        T.Orientationd(keys=[\"image\", \"label\"], axcodes=\"RAS\"),\n",
    "        T.Spacingd(\n",
    "            keys=[\"image\", \"label\"],\n",
    "            pixdim=(1, 1, 1),\n",
    "            mode=(\"bilinear\", \"nearest\"),\n",
    "            padding_mode=(\"zeros\", \"zeros\"),\n",
    "        ),\n",
    "        # T.CropForegroundd(keys=[\"image\", \"label\"], source_key=\"image\", allow_smaller=True),\n",
    "        T.NormalizeIntensityd(keys=\"image\", nonzero=True, channel_wise=True),\n",
    "        T.AsChannelLastd(keys=[\"image\", \"label\"]),\n",
    "    ],\n",
    "    lazy=True,\n",
    ")\n",
    "\n",
    "\n",
    "def process_image_msseg(path):\n",
    "    data = transforms(path)\n",
    "    save_path = (\n",
    "        \"/media/say26747/EC2426FA2426C782/Continual_learning_data/MSSEG_2016/finalized\"\n",
    "    )\n",
    "    nib.save(\n",
    "        nib.Nifti1Image(\n",
    "            data[\"image\"].squeeze().astype(np.float32),\n",
    "            affine=data[\"image\"].meta[\"affine\"],\n",
    "        ),\n",
    "        os.path.join(save_path, \"images\", f\"{data['name']}.nii.gz\"),\n",
    "    )\n",
    "    nib.save(\n",
    "        nib.Nifti1Image(\n",
    "            data[\"label\"].squeeze().astype(np.uint8),\n",
    "            affine=data[\"image\"].meta[\"affine\"],\n",
    "        ),\n",
    "        os.path.join(save_path, \"labels\", f\"{data['name']}.nii.gz\"),\n",
    "    )"
   ]
  },
  {
   "cell_type": "code",
   "execution_count": 27,
   "metadata": {},
   "outputs": [
    {
     "data": {
      "application/vnd.jupyter.widget-view+json": {
       "model_id": "75f8a73a1b3e499382fc1df68251e9f5",
       "version_major": 2,
       "version_minor": 0
      },
      "text/plain": [
       "  0%|          | 0/53 [00:00<?, ?it/s]"
      ]
     },
     "metadata": {},
     "output_type": "display_data"
    }
   ],
   "source": [
    "results = Parallel(n_jobs=4)(\n",
    "    delayed(process_image_msseg)(path) for path in tqdm(msseg_paths)\n",
    ")"
   ]
  },
  {
   "cell_type": "markdown",
   "metadata": {},
   "source": [
    "# For WMH"
   ]
  },
  {
   "cell_type": "code",
   "execution_count": 40,
   "metadata": {},
   "outputs": [
    {
     "data": {
      "application/vnd.jupyter.widget-view+json": {
       "model_id": "88252b6b64a44bf8b9039639359ddb69",
       "version_major": 2,
       "version_minor": 0
      },
      "text/plain": [
       "  0%|          | 0/60 [00:00<?, ?it/s]"
      ]
     },
     "metadata": {},
     "output_type": "display_data"
    }
   ],
   "source": [
    "root_path = \"/media/say26747/EC2426FA2426C782/Continual_learning_data/WMH/WMH_splitted\"\n",
    "images_path = os.listdir(root_path)\n",
    "\n",
    "for path in tqdm(images_path):\n",
    "    image_path = os.path.join(root_path, path)\n",
    "    orig_data = nib.load(os.path.join(image_path, f\"{path}_FLR.nii.gz\"))\n",
    "    t1_data = nib.load(os.path.join(image_path, f\"{path}_T1w.nii.gz\"))\n",
    "    nib.save(\n",
    "        nib.Nifti1Image(\n",
    "            t1_data.get_fdata().astype(np.float32), affine=orig_data.affine\n",
    "        ),\n",
    "        os.path.join(image_path, f\"{path}_T1w.nii.gz\"),\n",
    "    )"
   ]
  },
  {
   "cell_type": "code",
   "execution_count": 43,
   "metadata": {},
   "outputs": [],
   "source": [
    "root_path = \"/media/say26747/EC2426FA2426C782/Continual_learning_data/WMH/WMH_splitted\"\n",
    "\n",
    "\n",
    "def load_wmh_dataset_paths(root):\n",
    "    modalities_list = [\"FLR\", \"T1w\"]\n",
    "\n",
    "    images_path = os.listdir(root)\n",
    "    images_list = []\n",
    "\n",
    "    for path in images_path:\n",
    "        image_path = os.path.join(root, path)\n",
    "        image_modalities_paths = []\n",
    "\n",
    "        for modality in modalities_list:\n",
    "            image_modalities_paths.append(\n",
    "                os.path.join(image_path, f\"{path}_{modality}.nii.gz\")\n",
    "            )\n",
    "\n",
    "        seg_img = os.path.join(image_path, f\"{path}_Seg.nii.gz\")\n",
    "\n",
    "        images_list.append(\n",
    "            {\n",
    "                \"image\": image_modalities_paths,\n",
    "                \"label\": seg_img,\n",
    "                \"name\": path,\n",
    "            }\n",
    "        )\n",
    "\n",
    "    return images_list\n",
    "\n",
    "\n",
    "wmh_paths = load_wmh_dataset_paths(root_path)"
   ]
  },
  {
   "cell_type": "code",
   "execution_count": 44,
   "metadata": {},
   "outputs": [
    {
     "data": {
      "text/plain": [
       "{'image': ['/media/say26747/EC2426FA2426C782/Continual_learning_data/WMH/WMH_splitted/patient_51/patient_51_FLR.nii.gz',\n",
       "  '/media/say26747/EC2426FA2426C782/Continual_learning_data/WMH/WMH_splitted/patient_51/patient_51_T1w.nii.gz'],\n",
       " 'label': '/media/say26747/EC2426FA2426C782/Continual_learning_data/WMH/WMH_splitted/patient_51/patient_51_Seg.nii.gz',\n",
       " 'name': 'patient_51'}"
      ]
     },
     "execution_count": 44,
     "metadata": {},
     "output_type": "execute_result"
    }
   ],
   "source": [
    "wmh_paths[1]"
   ]
  },
  {
   "cell_type": "code",
   "execution_count": 45,
   "metadata": {},
   "outputs": [],
   "source": [
    "transforms = T.Compose(\n",
    "    [\n",
    "        T.LoadImaged(keys=[\"image\", \"label\"]),\n",
    "        T.EnsureChannelFirstd(keys=[\"image\", \"label\"]),\n",
    "        T.Orientationd(keys=[\"image\", \"label\"], axcodes=\"RAS\"),\n",
    "        T.Spacingd(\n",
    "            keys=[\"image\", \"label\"],\n",
    "            pixdim=(1, 1, 1),\n",
    "            mode=(\"bilinear\", \"nearest\"),\n",
    "            padding_mode=(\"zeros\", \"zeros\"),\n",
    "        ),\n",
    "        # T.CropForegroundd(keys=[\"image\", \"label\"], source_key=\"image\", allow_smaller=True),\n",
    "        T.NormalizeIntensityd(keys=\"image\", nonzero=True, channel_wise=True),\n",
    "        T.AsChannelLastd(keys=[\"image\", \"label\"]),\n",
    "    ],\n",
    "    lazy=False,\n",
    ")\n",
    "\n",
    "\n",
    "def process_image_wmh(path):\n",
    "    data = transforms(path)\n",
    "    save_path = \"/media/say26747/EC2426FA2426C782/Continual_learning_data/WMH/finalized\"\n",
    "    nib.save(\n",
    "        nib.Nifti1Image(\n",
    "            data[\"image\"].squeeze().astype(np.float32),\n",
    "            affine=data[\"image\"].meta[\"affine\"],\n",
    "        ),\n",
    "        os.path.join(save_path, \"images\", f\"{data['name']}.nii.gz\"),\n",
    "    )\n",
    "    nib.save(\n",
    "        nib.Nifti1Image(\n",
    "            data[\"label\"].squeeze().astype(np.uint8),\n",
    "            affine=data[\"image\"].meta[\"affine\"],\n",
    "        ),\n",
    "        os.path.join(save_path, \"labels\", f\"{data['name']}.nii.gz\"),\n",
    "    )"
   ]
  },
  {
   "cell_type": "code",
   "execution_count": 46,
   "metadata": {},
   "outputs": [
    {
     "data": {
      "application/vnd.jupyter.widget-view+json": {
       "model_id": "2b63abcd4e5c429faf87517328a012c5",
       "version_major": 2,
       "version_minor": 0
      },
      "text/plain": [
       "  0%|          | 0/60 [00:00<?, ?it/s]"
      ]
     },
     "metadata": {},
     "output_type": "display_data"
    }
   ],
   "source": [
    "results = Parallel(n_jobs=1)(\n",
    "    delayed(process_image_wmh)(path) for path in tqdm(wmh_paths)\n",
    ")"
   ]
  },
  {
   "cell_type": "code",
   "execution_count": 41,
   "metadata": {},
   "outputs": [
    {
     "name": "stdout",
     "output_type": "stream",
     "text": [
      "<class 'nibabel.nifti1.Nifti1Header'> object, endian='<'\n",
      "sizeof_hdr      : 348\n",
      "data_type       : b''\n",
      "db_name         : b''\n",
      "extents         : 0\n",
      "session_error   : 0\n",
      "regular         : b''\n",
      "dim_info        : 0\n",
      "dim             : [  3 240 240  48   1   1   1   1]\n",
      "intent_p1       : 0.0\n",
      "intent_p2       : 0.0\n",
      "intent_p3       : 0.0\n",
      "intent_code     : none\n",
      "datatype        : float32\n",
      "bitpix          : 32\n",
      "slice_start     : 0\n",
      "pixdim          : [1.         0.9583333  0.95833325 2.9999993  1.         1.\n",
      " 1.         1.        ]\n",
      "vox_offset      : 0.0\n",
      "scl_slope       : nan\n",
      "scl_inter       : nan\n",
      "slice_end       : 0\n",
      "slice_code      : unknown\n",
      "xyzt_units      : 0\n",
      "cal_max         : 0.0\n",
      "cal_min         : 0.0\n",
      "slice_duration  : 0.0\n",
      "toffset         : 0.0\n",
      "glmax           : 0\n",
      "glmin           : 0\n",
      "descrip         : b''\n",
      "aux_file        : b''\n",
      "qform_code      : unknown\n",
      "sform_code      : aligned\n",
      "quatern_b       : 0.031557195\n",
      "quatern_c       : -0.21605444\n",
      "quatern_d       : 0.9756906\n",
      "qoffset_x       : 118.610664\n",
      "qoffset_y       : 127.181854\n",
      "qoffset_z       : 13.316818\n",
      "srow_x          : [-9.55749035e-01 -4.81770411e-02  1.60402849e-01  1.18610664e+02]\n",
      "srow_y          : [ 2.20411010e-02 -8.68188620e-01 -1.26836812e+00  1.27181854e+02]\n",
      "srow_z          : [ 0.06678874 -0.40290213  2.713947   13.316818  ]\n",
      "intent_name     : b''\n",
      "magic           : b'n+1'\n"
     ]
    }
   ],
   "source": [
    "path = \"/media/say26747/EC2426FA2426C782/Continual_learning_data/WMH/WMH_splitted/patient_0\"\n",
    "print(nib.load(os.path.join(path, \"patient_0_FLR.nii.gz\")).header)"
   ]
  },
  {
   "cell_type": "code",
   "execution_count": 42,
   "metadata": {},
   "outputs": [
    {
     "name": "stdout",
     "output_type": "stream",
     "text": [
      "<class 'nibabel.nifti1.Nifti1Header'> object, endian='<'\n",
      "sizeof_hdr      : 348\n",
      "data_type       : b''\n",
      "db_name         : b''\n",
      "extents         : 0\n",
      "session_error   : 0\n",
      "regular         : b''\n",
      "dim_info        : 0\n",
      "dim             : [  3 240 240  48   1   1   1   1]\n",
      "intent_p1       : 0.0\n",
      "intent_p2       : 0.0\n",
      "intent_p3       : 0.0\n",
      "intent_code     : none\n",
      "datatype        : float32\n",
      "bitpix          : 32\n",
      "slice_start     : 0\n",
      "pixdim          : [1.         0.9583333  0.95833325 2.9999993  1.         1.\n",
      " 1.         1.        ]\n",
      "vox_offset      : 0.0\n",
      "scl_slope       : nan\n",
      "scl_inter       : nan\n",
      "slice_end       : 0\n",
      "slice_code      : unknown\n",
      "xyzt_units      : 0\n",
      "cal_max         : 0.0\n",
      "cal_min         : 0.0\n",
      "slice_duration  : 0.0\n",
      "toffset         : 0.0\n",
      "glmax           : 0\n",
      "glmin           : 0\n",
      "descrip         : b''\n",
      "aux_file        : b''\n",
      "qform_code      : unknown\n",
      "sform_code      : aligned\n",
      "quatern_b       : 0.031557195\n",
      "quatern_c       : -0.21605444\n",
      "quatern_d       : 0.9756906\n",
      "qoffset_x       : 118.610664\n",
      "qoffset_y       : 127.181854\n",
      "qoffset_z       : 13.316818\n",
      "srow_x          : [-9.55749035e-01 -4.81770411e-02  1.60402849e-01  1.18610664e+02]\n",
      "srow_y          : [ 2.20411010e-02 -8.68188620e-01 -1.26836812e+00  1.27181854e+02]\n",
      "srow_z          : [ 0.06678874 -0.40290213  2.713947   13.316818  ]\n",
      "intent_name     : b''\n",
      "magic           : b'n+1'\n"
     ]
    }
   ],
   "source": [
    "print(nib.load(os.path.join(path, \"patient_0_T1w.nii.gz\")).header)"
   ]
  },
  {
   "cell_type": "code",
   "execution_count": 37,
   "metadata": {},
   "outputs": [
    {
     "name": "stdout",
     "output_type": "stream",
     "text": [
      "<class 'nibabel.nifti1.Nifti1Header'> object, endian='<'\n",
      "sizeof_hdr      : 348\n",
      "data_type       : b''\n",
      "db_name         : b''\n",
      "extents         : 0\n",
      "session_error   : 0\n",
      "regular         : b'r'\n",
      "dim_info        : 0\n",
      "dim             : [  3 256 256 176   1   1   1   1]\n",
      "intent_p1       : 0.0\n",
      "intent_p2       : 0.0\n",
      "intent_p3       : 0.0\n",
      "intent_code     : none\n",
      "datatype        : float32\n",
      "bitpix          : 32\n",
      "slice_start     : 0\n",
      "pixdim          : [1.     0.9375 0.9375 1.     0.     0.     0.     0.    ]\n",
      "vox_offset      : 0.0\n",
      "scl_slope       : nan\n",
      "scl_inter       : nan\n",
      "slice_end       : 0\n",
      "slice_code      : unknown\n",
      "xyzt_units      : 2\n",
      "cal_max         : 0.0\n",
      "cal_min         : 0.0\n",
      "slice_duration  : 0.0\n",
      "toffset         : 0.0\n",
      "glmax           : 0\n",
      "glmin           : 0\n",
      "descrip         : b''\n",
      "aux_file        : b''\n",
      "qform_code      : aligned\n",
      "sform_code      : scanner\n",
      "quatern_b       : -0.5\n",
      "quatern_c       : 0.5\n",
      "quatern_d       : -0.5\n",
      "qoffset_x       : -88.235\n",
      "qoffset_y       : 153.922\n",
      "qoffset_z       : 100.503\n",
      "srow_x          : [ -0.      0.      1.    -88.235]\n",
      "srow_y          : [ -0.9375  -0.      -0.     153.922 ]\n",
      "srow_z          : [  0.      -0.9375   0.     100.503 ]\n",
      "intent_name     : b''\n",
      "magic           : b'n+1'\n"
     ]
    }
   ],
   "source": [
    "print(nib.load(os.path.join(path, \"3DT1.nii.gz\")).header)"
   ]
  },
  {
   "cell_type": "code",
   "execution_count": null,
   "metadata": {},
   "outputs": [],
   "source": []
  }
 ],
 "metadata": {
  "kernelspec": {
   "display_name": "base",
   "language": "python",
   "name": "python3"
  },
  "language_info": {
   "codemirror_mode": {
    "name": "ipython",
    "version": 3
   },
   "file_extension": ".py",
   "mimetype": "text/x-python",
   "name": "python",
   "nbconvert_exporter": "python",
   "pygments_lexer": "ipython3",
   "version": "3.12.2"
  }
 },
 "nbformat": 4,
 "nbformat_minor": 2
}
