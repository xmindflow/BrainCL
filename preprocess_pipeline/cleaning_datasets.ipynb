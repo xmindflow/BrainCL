{
 "cells": [
  {
   "cell_type": "code",
   "execution_count": 32,
   "metadata": {},
   "outputs": [],
   "source": [
    "import os\n",
    "import nibabel as nib\n",
    "import numpy as np\n",
    "import matplotlib.pyplot as plt\n",
    "from tqdm.auto import tqdm\n",
    "from joblib import Parallel, delayed\n",
    "from glob import glob\n",
    "import subprocess\n",
    "import shutil"
   ]
  },
  {
   "cell_type": "markdown",
   "metadata": {},
   "source": [
    "# Cleaning BRATS"
   ]
  },
  {
   "cell_type": "code",
   "execution_count": 33,
   "metadata": {},
   "outputs": [
    {
     "name": "stdout",
     "output_type": "stream",
     "text": [
      "484 484\n",
      "/media/say26747/EC2426FA2426C782/Continual_learning_data/Brats_16_17/Task01_BrainTumour/labelsTr/BRATS_001.nii.gz /media/say26747/EC2426FA2426C782/Continual_learning_data/Brats_16_17/Task01_BrainTumour/imagesTr/BRATS_001.nii.gz\n"
     ]
    }
   ],
   "source": [
    "data_path = \"/media/say26747/EC2426FA2426C782/Continual_learning_data/Brats_16_17/Task01_BrainTumour\"\n",
    "seg_paths = sorted(glob(os.path.join(data_path, \"labelsTr\", \"*.nii.gz\")))\n",
    "img_paths = sorted(glob(os.path.join(data_path, \"imagesTr\", \"*.nii.gz\")))\n",
    "print(len(seg_paths), len(img_paths))\n",
    "print(seg_paths[0], img_paths[0])"
   ]
  },
  {
   "cell_type": "code",
   "execution_count": 34,
   "metadata": {},
   "outputs": [],
   "source": [
    "save_path = \"/media/say26747/EC2426FA2426C782/Continual_learning_data/Brats_16_17/BRATS_splitted\"\n",
    "os.makedirs(save_path, exist_ok=True)"
   ]
  },
  {
   "cell_type": "code",
   "execution_count": 35,
   "metadata": {},
   "outputs": [],
   "source": [
    "def worker(img_path, seg_path):\n",
    "    img_data = nib.load(img_path)\n",
    "    seg_data = nib.load(seg_path)\n",
    "    img_affine = img_data.affine\n",
    "    seg_affine = seg_data.affine\n",
    "    img = img_data.get_fdata().astype(np.float32)\n",
    "    seg = seg_data.get_fdata().astype(np.uint8)\n",
    "    patient_name = os.path.basename(img_path).split(\".\")[0]\n",
    "    os.makedirs(os.path.join(save_path, patient_name), exist_ok=True)\n",
    "    for index, modality in enumerate([\"FLR\", \"T1w\", \"T1c\", \"T2w\"]):\n",
    "        nib.save(\n",
    "            nib.Nifti1Image(img[..., index], img_affine),\n",
    "            os.path.join(save_path, patient_name, f\"{patient_name}_{modality}.nii.gz\"),\n",
    "        )\n",
    "\n",
    "    seg_dest_path = os.path.join(save_path, patient_name, f\"{patient_name}_Seg.nii.gz\")\n",
    "    seg_merged = (seg > 0).astype(np.uint8)\n",
    "\n",
    "    try:\n",
    "        shutil.copy2(seg_path, seg_dest_path)\n",
    "    except Exception as e:\n",
    "        print(f\"Error: {e}\")\n",
    "\n",
    "    nib.save(\n",
    "        nib.Nifti1Image(seg_merged, seg_affine),\n",
    "        os.path.join(save_path, patient_name, f\"{patient_name}_MERGED_Seg.nii.gz\"),\n",
    "    )\n",
    "\n",
    "    return"
   ]
  },
  {
   "cell_type": "code",
   "execution_count": 36,
   "metadata": {},
   "outputs": [
    {
     "data": {
      "application/vnd.jupyter.widget-view+json": {
       "model_id": "4a20ab5a499d4a3d9c559cb4849e6ec3",
       "version_major": 2,
       "version_minor": 0
      },
      "text/plain": [
       "  0%|          | 0/484 [00:00<?, ?it/s]"
      ]
     },
     "metadata": {},
     "output_type": "display_data"
    }
   ],
   "source": [
    "results = Parallel(n_jobs=-1)(\n",
    "    delayed(worker)(img_path, seg_path)\n",
    "    for img_path, seg_path in tqdm(zip(img_paths, seg_paths), total=len(img_paths))\n",
    ")"
   ]
  },
  {
   "cell_type": "markdown",
   "metadata": {},
   "source": [
    "# Clean ISLES"
   ]
  },
  {
   "cell_type": "code",
   "execution_count": 45,
   "metadata": {},
   "outputs": [
    {
     "name": "stdout",
     "output_type": "stream",
     "text": [
      "28 4\n",
      "[28, 28, 28, 28]\n",
      "/media/say26747/EC2426FA2426C782/Continual_learning_data/ISLES_2015/SISS2015_Training/1/VSD.Brain.XX.O.OT.70618/VSD.Brain.XX.O.OT.70618.nii /media/say26747/EC2426FA2426C782/Continual_learning_data/ISLES_2015/SISS2015_Training/1/VSD.Brain.XX.O.MR_DWI.70613/VSD.Brain.XX.O.MR_DWI.70613.nii\n",
      "/media/say26747/EC2426FA2426C782/Continual_learning_data/ISLES_2015/SISS2015_Training/1/VSD.Brain.XX.O.MR_Flair.70614/VSD.Brain.XX.O.MR_Flair.70614.nii\n",
      "/media/say26747/EC2426FA2426C782/Continual_learning_data/ISLES_2015/SISS2015_Training/1/VSD.Brain.XX.O.MR_T1.70615/VSD.Brain.XX.O.MR_T1.70615.nii\n",
      "/media/say26747/EC2426FA2426C782/Continual_learning_data/ISLES_2015/SISS2015_Training/1/VSD.Brain.XX.O.MR_T2.70616/VSD.Brain.XX.O.MR_T2.70616.nii\n"
     ]
    }
   ],
   "source": [
    "data_path = \"/media/say26747/EC2426FA2426C782/Continual_learning_data/ISLES_2015/SISS2015_Training\"\n",
    "img_paths = []\n",
    "for modality in [\"DWI\", \"Flair\", \"T1\", \"T2\"]:\n",
    "    img_paths.append(\n",
    "        sorted(glob(os.path.join(data_path, \"*\", f\"*MR_{modality}*\", \"*.nii\")))\n",
    "    )\n",
    "seg_paths = sorted(glob(os.path.join(data_path, \"*\", \"*OT*\", \"*.nii\")))\n",
    "print(len(seg_paths), len(img_paths))\n",
    "print([len(img_path) for img_path in img_paths])\n",
    "print(seg_paths[0], img_paths[0][0])\n",
    "print(img_paths[1][0])\n",
    "print(img_paths[2][0])\n",
    "print(img_paths[3][0])"
   ]
  },
  {
   "cell_type": "code",
   "execution_count": 46,
   "metadata": {},
   "outputs": [],
   "source": [
    "save_path = (\n",
    "    \"/media/say26747/EC2426FA2426C782/Continual_learning_data/ISLES_2015/ISLES_splitted\"\n",
    ")\n",
    "os.makedirs(save_path, exist_ok=True)"
   ]
  },
  {
   "cell_type": "code",
   "execution_count": 47,
   "metadata": {},
   "outputs": [],
   "source": [
    "for index, seg_path in enumerate(seg_paths):\n",
    "    img_path = [img_paths[i][index] for i in range(4)]\n",
    "    img_data = [nib.load(img) for img in img_path]\n",
    "    seg_data = nib.load(seg_path)\n",
    "    img_affine = [img.affine for img in img_data]\n",
    "    seg_affine = seg_data.affine\n",
    "    parts = seg_path.split(os.sep)\n",
    "    patient_name = None\n",
    "    for part in parts:\n",
    "        if part.isdigit():\n",
    "            patient_name = f\"patient_{part}\"\n",
    "            break\n",
    "    if patient_name is None:\n",
    "        raise ValueError(\"Patient name not found\")\n",
    "    os.makedirs(os.path.join(save_path, patient_name), exist_ok=True)\n",
    "    for index, modality in enumerate([\"DWI\", \"FLR\", \"T1w\", \"T2w\"]):\n",
    "        nib.save(\n",
    "            nib.Nifti1Image(\n",
    "                img_data[index].get_fdata().astype(np.float32), img_affine[index]\n",
    "            ),\n",
    "            os.path.join(save_path, patient_name, f\"{patient_name}_{modality}.nii.gz\"),\n",
    "        )\n",
    "    nib.save(\n",
    "        nib.Nifti1Image(seg_data.get_fdata().astype(np.uint8), seg_affine),\n",
    "        os.path.join(save_path, patient_name, f\"{patient_name}_Seg.nii.gz\"),\n",
    "    )"
   ]
  },
  {
   "cell_type": "markdown",
   "metadata": {},
   "source": [
    "# Cleaning WMH"
   ]
  },
  {
   "cell_type": "code",
   "execution_count": 51,
   "metadata": {},
   "outputs": [
    {
     "name": "stdout",
     "output_type": "stream",
     "text": [
      "60 2\n",
      "[60, 60]\n",
      "/media/say26747/EC2426FA2426C782/Continual_learning_data/WMH/dataverse_files/training/Amsterdam/GE3T/100/wmh.nii.gz /media/say26747/EC2426FA2426C782/Continual_learning_data/WMH/dataverse_files/training/Amsterdam/GE3T/100/pre/FLAIR.nii.gz\n",
      "/media/say26747/EC2426FA2426C782/Continual_learning_data/WMH/dataverse_files/training/Amsterdam/GE3T/100/pre/T1.nii.gz\n"
     ]
    }
   ],
   "source": [
    "root_path = \"/media/say26747/EC2426FA2426C782/Continual_learning_data/WMH/dataverse_files/training\"\n",
    "img_paths = []\n",
    "for modality in [\"FLAIR\", \"T1\"]:\n",
    "    img_paths.append(\n",
    "        sorted(\n",
    "            glob(os.path.join(root_path, \"*\", \"*\", \"*\", \"pre\", f\"{modality}.nii.gz\"))\n",
    "        )\n",
    "    )\n",
    "seg_paths = sorted(glob(os.path.join(root_path, \"*\", \"*\", \"*\", \"wmh.nii.gz\")))\n",
    "print(len(seg_paths), len(img_paths))\n",
    "print([len(img_path) for img_path in img_paths])\n",
    "print(seg_paths[0], img_paths[0][0])\n",
    "print(img_paths[1][0])"
   ]
  },
  {
   "cell_type": "code",
   "execution_count": 52,
   "metadata": {},
   "outputs": [],
   "source": [
    "save_path = \"/media/say26747/EC2426FA2426C782/Continual_learning_data/WMH/WMH_splitted\"\n",
    "os.makedirs(save_path, exist_ok=True)"
   ]
  },
  {
   "cell_type": "code",
   "execution_count": 53,
   "metadata": {},
   "outputs": [],
   "source": [
    "for index, seg_path in enumerate(seg_paths):\n",
    "    img_path = [img_paths[i][index] for i in range(2)]\n",
    "    img_data = [nib.load(img) for img in img_path]\n",
    "    seg_data = nib.load(seg_path)\n",
    "    img_affine = [img.affine for img in img_data]\n",
    "    seg_affine = seg_data.affine\n",
    "    parts = seg_path.split(os.sep)\n",
    "    patient_name = None\n",
    "    for part in parts:\n",
    "        if part.isdigit():\n",
    "            patient_name = f\"patient_{part}\"\n",
    "            break\n",
    "    if patient_name is None:\n",
    "        raise ValueError(\"Patient name not found\")\n",
    "\n",
    "    os.makedirs(os.path.join(save_path, patient_name), exist_ok=True)\n",
    "    for index, modality in enumerate([\"FLR\", \"T1w\"]):\n",
    "        nib.save(\n",
    "            nib.Nifti1Image(\n",
    "                img_data[index].get_fdata().astype(np.float32), img_affine[index]\n",
    "            ),\n",
    "            os.path.join(save_path, patient_name, f\"{patient_name}_{modality}.nii.gz\"),\n",
    "        )\n",
    "    nib.save(\n",
    "        nib.Nifti1Image((seg_data.get_fdata() > 0).astype(np.uint8), seg_affine),\n",
    "        os.path.join(save_path, patient_name, f\"{patient_name}_Seg.nii.gz\"),\n",
    "    )"
   ]
  },
  {
   "cell_type": "markdown",
   "metadata": {},
   "source": [
    "# clean MSSEG-2016"
   ]
  },
  {
   "cell_type": "code",
   "execution_count": 55,
   "metadata": {},
   "outputs": [
    {
     "name": "stdout",
     "output_type": "stream",
     "text": [
      "53 5\n",
      "[53, 53, 53, 53, 53]\n",
      "/media/say26747/EC2426FA2426C782/Continual_learning_data/MSSEG_2016/MSSEG-Testing/Testing/Center_01/Patient_01/Masks/Consensus.nii.gz /media/say26747/EC2426FA2426C782/Continual_learning_data/MSSEG_2016/MSSEG-Testing/Testing/Center_01/Patient_01/Preprocessed_Data/DP_preprocessed.nii.gz\n",
      "/media/say26747/EC2426FA2426C782/Continual_learning_data/MSSEG_2016/MSSEG-Testing/Testing/Center_01/Patient_01/Preprocessed_Data/GADO_preprocessed.nii.gz\n",
      "/media/say26747/EC2426FA2426C782/Continual_learning_data/MSSEG_2016/MSSEG-Testing/Testing/Center_01/Patient_01/Preprocessed_Data/FLAIR_preprocessed.nii.gz\n",
      "/media/say26747/EC2426FA2426C782/Continual_learning_data/MSSEG_2016/MSSEG-Testing/Testing/Center_01/Patient_01/Preprocessed_Data/T1_preprocessed.nii.gz\n",
      "/media/say26747/EC2426FA2426C782/Continual_learning_data/MSSEG_2016/MSSEG-Testing/Testing/Center_01/Patient_01/Preprocessed_Data/T2_preprocessed.nii.gz\n"
     ]
    }
   ],
   "source": [
    "root_path = \"/media/say26747/EC2426FA2426C782/Continual_learning_data/MSSEG_2016\"\n",
    "img_paths = []\n",
    "for modality in [\"DP\", \"GADO\", \"FLAIR\", \"T1\", \"T2\"]:\n",
    "    img_paths.append(\n",
    "        sorted(\n",
    "            glob(\n",
    "                os.path.join(\n",
    "                    root_path,\n",
    "                    \"MSSEG*\",\n",
    "                    \"T*\",\n",
    "                    \"*\",\n",
    "                    \"*\",\n",
    "                    \"Preprocessed_Data\",\n",
    "                    f\"*{modality}_preprocessed.nii.gz\",\n",
    "                )\n",
    "            )\n",
    "        )\n",
    "    )\n",
    "seg_paths = sorted(\n",
    "    glob(os.path.join(root_path, \"MSSEG*\", \"T*\", \"*\", \"*\", \"Masks\", \"Consensus.nii.gz\"))\n",
    ")\n",
    "print(len(seg_paths), len(img_paths))\n",
    "print([len(img_path) for img_path in img_paths])\n",
    "print(seg_paths[0], img_paths[0][0])\n",
    "print(img_paths[1][0])\n",
    "print(img_paths[2][0])\n",
    "print(img_paths[3][0])\n",
    "print(img_paths[4][0])"
   ]
  },
  {
   "cell_type": "code",
   "execution_count": 56,
   "metadata": {},
   "outputs": [],
   "source": [
    "save_path = (\n",
    "    \"/media/say26747/EC2426FA2426C782/Continual_learning_data/MSSEG_2016/MSSEG_splitted\"\n",
    ")\n",
    "os.makedirs(save_path, exist_ok=True)"
   ]
  },
  {
   "cell_type": "code",
   "execution_count": 57,
   "metadata": {},
   "outputs": [
    {
     "data": {
      "application/vnd.jupyter.widget-view+json": {
       "model_id": "ebfa4c6a6f6243338923415a28ce509f",
       "version_major": 2,
       "version_minor": 0
      },
      "text/plain": [
       "  0%|          | 0/53 [00:00<?, ?it/s]"
      ]
     },
     "metadata": {},
     "output_type": "display_data"
    }
   ],
   "source": [
    "for index, seg_path in tqdm(enumerate(seg_paths), total=len(seg_paths)):\n",
    "    img_path = [img_paths[i][index] for i in range(5)]\n",
    "    img_data = [nib.load(img) for img in img_path]\n",
    "    seg_data = nib.load(seg_path)\n",
    "    img_affine = [img.affine for img in img_data]\n",
    "    seg_affine = seg_data.affine\n",
    "    parts = seg_path.split(os.sep)\n",
    "    test_or_train = \"train\" if \"Training\" in parts else \"test\"\n",
    "    center_number = parts[-4].split(\"_\")[-1]  # Extract '01' from 'Center_01'\n",
    "    patient_number = parts[-3].split(\"_\")[-1]  # Extract '01' from 'Patient_01'\n",
    "    patient_name = f\"{test_or_train}_center_{center_number}_patient_{patient_number}\"\n",
    "\n",
    "    os.makedirs(os.path.join(save_path, patient_name), exist_ok=True)\n",
    "    for index, modality in enumerate([\"PDw\", \"T1c\", \"FLR\", \"T1w\", \"T2w\"]):\n",
    "        nib.save(\n",
    "            nib.Nifti1Image(\n",
    "                img_data[index].get_fdata().astype(np.float32), img_affine[index]\n",
    "            ),\n",
    "            os.path.join(save_path, patient_name, f\"{patient_name}_{modality}.nii.gz\"),\n",
    "        )\n",
    "    nib.save(\n",
    "        nib.Nifti1Image((seg_data.get_fdata() > 0).astype(np.uint8), seg_affine),\n",
    "        os.path.join(save_path, patient_name, f\"{patient_name}_Seg.nii.gz\"),\n",
    "    )"
   ]
  },
  {
   "cell_type": "code",
   "execution_count": null,
   "metadata": {},
   "outputs": [],
   "source": []
  }
 ],
 "metadata": {
  "kernelspec": {
   "display_name": "base",
   "language": "python",
   "name": "python3"
  },
  "language_info": {
   "codemirror_mode": {
    "name": "ipython",
    "version": 3
   },
   "file_extension": ".py",
   "mimetype": "text/x-python",
   "name": "python",
   "nbconvert_exporter": "python",
   "pygments_lexer": "ipython3",
   "version": "3.11.0"
  }
 },
 "nbformat": 4,
 "nbformat_minor": 2
}
